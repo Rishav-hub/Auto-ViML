{
  "nbformat": 4,
  "nbformat_minor": 0,
  "metadata": {
    "colab": {
      "name": "05_AutoVIML for NLP",
      "provenance": [],
      "collapsed_sections": [],
      "authorship_tag": "ABX9TyOop2p2ABQlPlIQFotNqKuR",
      "include_colab_link": true
    },
    "kernelspec": {
      "name": "python3",
      "display_name": "Python 3"
    },
    "language_info": {
      "name": "python"
    },
    "accelerator": "GPU",
    "gpuClass": "standard"
  },
  "cells": [
    {
      "cell_type": "markdown",
      "metadata": {
        "id": "view-in-github",
        "colab_type": "text"
      },
      "source": [
        "<a href=\"https://colab.research.google.com/github/Rishav-hub/Auto-ViML/blob/main/05_AutoVIML_for_NLP.ipynb\" target=\"_parent\"><img src=\"https://colab.research.google.com/assets/colab-badge.svg\" alt=\"Open In Colab\"/></a>"
      ]
    },
    {
      "cell_type": "markdown",
      "source": [
        "## Installation\n",
        "```pip install git+https://github.com/AutoViML/Auto_ViML.git```\n",
        "\n",
        "or \n",
        "\n",
        "```pip install autoviml```"
      ],
      "metadata": {
        "id": "SZvigmqxk8vK"
      }
    },
    {
      "cell_type": "code",
      "execution_count": null,
      "metadata": {
        "id": "noEwSo7akK0G"
      },
      "outputs": [],
      "source": [
        "!pip install autoviml"
      ]
    },
    {
      "cell_type": "markdown",
      "source": [
        "## Implementation with Auto-ViML"
      ],
      "metadata": {
        "id": "zv3Gy9B2lONi"
      }
    },
    {
      "cell_type": "code",
      "source": [
        "from autoviml.Auto_NLP import Auto_NLP"
      ],
      "metadata": {
        "id": "0a3nch63lBFd"
      },
      "execution_count": null,
      "outputs": []
    },
    {
      "cell_type": "markdown",
      "source": [
        "## Load Dataset"
      ],
      "metadata": {
        "id": "z-WNk7e2lVN_"
      }
    },
    {
      "cell_type": "code",
      "source": [
        "import tensorflow_datasets as tfds\n",
        "dataset, info = tfds.load('amazon_us_reviews/Personal_Care_Appliances_v1_00', with_info=True, batch_size=-1)"
      ],
      "metadata": {
        "id": "ONvQQk7ylSol"
      },
      "execution_count": null,
      "outputs": []
    },
    {
      "cell_type": "code",
      "source": [
        "train_dataset = dataset['train']"
      ],
      "metadata": {
        "id": "kgqhSawc7KGU"
      },
      "execution_count": null,
      "outputs": []
    },
    {
      "cell_type": "markdown",
      "source": [
        "## Convert dataset to array\n"
      ],
      "metadata": {
        "id": "Fv4aMQSU7hJS"
      }
    },
    {
      "cell_type": "code",
      "source": [
        "import numpy as np\n",
        "dataset=tfds.as_numpy(train_dataset)"
      ],
      "metadata": {
        "id": "KW33Mxrc7ii1"
      },
      "execution_count": null,
      "outputs": []
    },
    {
      "cell_type": "code",
      "source": [
        "dataset"
      ],
      "metadata": {
        "id": "tScXmPp37ifo"
      },
      "execution_count": null,
      "outputs": []
    },
    {
      "cell_type": "markdown",
      "source": [
        "## Extracting important columns\n",
        "\n",
        "The dataset has different columns. We are interested in the following columns: helpful_votes, review_headline, review_body and star_rating.\n",
        "\n",
        "- star_rating: It shows the 1-5 star rating of the product purchased.\n",
        "\n",
        "- helpful_votes: It shows the number of votes for a purchased product.\n",
        "\n",
        "- review_headline: It shows the title product review.\n",
        "\n",
        "- review_body: It shows a detailed description of the review."
      ],
      "metadata": {
        "id": "Iv4fvdp17skj"
      }
    },
    {
      "cell_type": "code",
      "source": [
        "helpful_votes=dataset['data']['helpful_votes']\n",
        "review_headline=dataset['data']['review_headline']\n",
        "review_body=dataset['data']['review_body']\n",
        "rating=dataset['data']['star_rating']"
      ],
      "metadata": {
        "id": "rB52nUos7uCS"
      },
      "execution_count": null,
      "outputs": []
    },
    {
      "cell_type": "markdown",
      "source": [
        "## Creating a data frame"
      ],
      "metadata": {
        "id": "KRh0cSBC77yE"
      }
    },
    {
      "cell_type": "code",
      "source": [
        "import pandas as pd\n",
        "reviews_df=pd.DataFrame(np.hstack((helpful_votes[:,None],review_headline[:,None],review_body[:,None],rating[:,None])),columns=['votes','headline','reviews','rating'])\n"
      ],
      "metadata": {
        "id": "aWRM-XUc79Mf"
      },
      "execution_count": null,
      "outputs": []
    },
    {
      "cell_type": "code",
      "source": [
        "# Define Datatypes Columns datatypes\n",
        "\n",
        "convert_dict = {'votes': int, \n",
        " 'headline': str,\n",
        " 'reviews': str,\n",
        " 'rating': int\n",
        "               }\n",
        "reviews_df = reviews_df.astype(convert_dict) \n"
      ],
      "metadata": {
        "id": "FOM0fq3q8DYg"
      },
      "execution_count": null,
      "outputs": []
    },
    {
      "cell_type": "code",
      "source": [
        "reviews_df"
      ],
      "metadata": {
        "id": "0I3CXlsu8PHQ"
      },
      "execution_count": null,
      "outputs": []
    },
    {
      "cell_type": "markdown",
      "source": [
        "## Adding the target column\n",
        "For a review to be positive, the star_rating should be greater than 4. If the star_rating is less than 4, the review is negative.\n",
        "\n",
        "This code will add the target column. It will ensure that if the rating is greater than 4, the review is labeled 1. If the rating is less than 4, the review is labeled 0."
      ],
      "metadata": {
        "id": "Aw71sFQ98Ud1"
      }
    },
    {
      "cell_type": "code",
      "source": [
        "reviews_df[\"target\"] = reviews_df[\"rating\"].apply(lambda x: 1 if x>= 4 else 0) "
      ],
      "metadata": {
        "id": "JphsBPd_8YLJ"
      },
      "execution_count": null,
      "outputs": []
    },
    {
      "cell_type": "code",
      "source": [
        "reviews_df"
      ],
      "metadata": {
        "id": "uenjdqIT8gLE"
      },
      "execution_count": null,
      "outputs": []
    },
    {
      "cell_type": "markdown",
      "source": [
        "## Split the Dataset"
      ],
      "metadata": {
        "id": "ZkJFhhmJlb_c"
      }
    },
    {
      "cell_type": "code",
      "source": [
        "from sklearn.model_selection import train_test_split\n",
        "train, test = train_test_split(reviews_df, test_size=0.25)"
      ],
      "metadata": {
        "id": "mNIYNbbElZQs"
      },
      "execution_count": null,
      "outputs": []
    },
    {
      "cell_type": "markdown",
      "source": [
        "## Initiating Auto NLP\n",
        "\n",
        "- **nlp_column**: The model uses this column as the input column. It feeds the model with data during training.\n",
        "\n",
        "- **target**: It shows the model’s output after making a prediction.\n",
        "\n",
        "- **train**: It is the split dataset that the model uses during training.\n",
        "\n",
        "- **test**: It is the split dataset that the model uses during testing.\n",
        "\n",
        "- **score_type**='balanced_accuracy': It calculates the accuracy score for the model.\n",
        "\n",
        "- **modeltype**='Classification': It specifies the type of model we are building. We are building a classification model.\n",
        "\n",
        "- **top_num_features**=50: It specifies the number of important features the model uses during training. Features are the important attributes found in the dataset.\n",
        "\n",
        "- **build_model**=True: It tells the Auto_NLP function to build the model. Auto_NLP function will then use the key, AutoVIML features, to produce an optimized model."
      ],
      "metadata": {
        "id": "k8w7uVUUlklE"
      }
    },
    {
      "cell_type": "code",
      "source": [
        "nlp_column = 'reviews'\n",
        "target = 'target'"
      ],
      "metadata": {
        "id": "LA3uHVdJ9jWv"
      },
      "execution_count": null,
      "outputs": []
    },
    {
      "cell_type": "code",
      "source": [
        "nlp_transformer= Auto_NLP(\n",
        "                nlp_column, train, test, target, score_type='balanced_accuracy',\n",
        " modeltype='Classification',top_num_features=50, verbose=2,\n",
        " build_model=True)"
      ],
      "metadata": {
        "id": "5mf-pJ1Nlfqs"
      },
      "execution_count": null,
      "outputs": []
    },
    {
      "cell_type": "markdown",
      "source": [
        "## Making predictions"
      ],
      "metadata": {
        "id": "xNsX1ve5oeSV"
      }
    },
    {
      "cell_type": "code",
      "source": [
        "nlp_transformer.predict(test[nlp_column])"
      ],
      "metadata": {
        "id": "QjsZqdDUnGqB"
      },
      "execution_count": null,
      "outputs": []
    },
    {
      "cell_type": "code",
      "source": [
        ""
      ],
      "metadata": {
        "id": "_cku7v4Oo-i2"
      },
      "execution_count": null,
      "outputs": []
    }
  ]
}